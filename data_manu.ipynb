{
 "cells": [
  {
   "cell_type": "code",
   "execution_count": 35,
   "id": "f87909be",
   "metadata": {},
   "outputs": [],
   "source": [
    "import pandas as pd\n",
    "from constants import one_empty"
   ]
  },
  {
   "cell_type": "code",
   "execution_count": 38,
   "id": "443792b1",
   "metadata": {},
   "outputs": [],
   "source": [
    "s = pd.read_csv('full matches\\\\1.csv')"
   ]
  },
  {
   "cell_type": "code",
   "execution_count": 41,
   "id": "2103d120",
   "metadata": {},
   "outputs": [],
   "source": [
    "s.drop('Unnamed: 0', axis=1, inplace=True)"
   ]
  },
  {
   "cell_type": "code",
   "execution_count": 46,
   "id": "5bf030c4",
   "metadata": {},
   "outputs": [],
   "source": [
    "drp = s.drop(s.columns[[2, 3, 6, 7, 8, 9]], axis=1)"
   ]
  },
  {
   "cell_type": "code",
   "execution_count": 48,
   "id": "8578227e",
   "metadata": {},
   "outputs": [],
   "source": [
    "d = drp.dropna()"
   ]
  },
  {
   "cell_type": "code",
   "execution_count": 51,
   "id": "159bbfa7",
   "metadata": {},
   "outputs": [],
   "source": [
    "d = d.drop_duplicates()"
   ]
  },
  {
   "cell_type": "code",
   "execution_count": 55,
   "id": "2249fa43",
   "metadata": {},
   "outputs": [],
   "source": [
    "arr = d.to_numpy()"
   ]
  },
  {
   "cell_type": "code",
   "execution_count": 57,
   "id": "db8e386f",
   "metadata": {},
   "outputs": [
    {
     "data": {
      "text/plain": [
       "(23, 297)"
      ]
     },
     "execution_count": 57,
     "metadata": {},
     "output_type": "execute_result"
    }
   ],
   "source": [
    "arr.shape"
   ]
  },
  {
   "cell_type": "code",
   "execution_count": 60,
   "id": "2d1348e7",
   "metadata": {},
   "outputs": [
    {
     "data": {
      "text/plain": [
       "(6831,)"
      ]
     },
     "execution_count": 60,
     "metadata": {},
     "output_type": "execute_result"
    }
   ],
   "source": [
    "arr.flatten().shape"
   ]
  },
  {
   "cell_type": "code",
   "execution_count": 61,
   "id": "9a50a743",
   "metadata": {},
   "outputs": [
    {
     "data": {
      "text/plain": [
       "array([['QB', '25-014', 'ARI', 'GNB', 37.0, 16.14, 16.1, 23.1, 19.1,\n",
       "        17.0],\n",
       "       ['RB', '26-351', 'ARI', 'GNB', 86.0, 15.9, 18.9, 18.9, 17.4, 1.0],\n",
       "       ['RB', '29-078', 'ARI', 'GNB', 103.0, 5.0, 10.0, 10.0, 7.5, 0.0],\n",
       "       ['WR', '27-148', 'ARI', 'GNB', 15.0, 6.9, 7.9, 7.9, 7.4, 0.0],\n",
       "       ['WR', '26-319', 'ARI', 'GNB', 77.0, 17.8, 30.8, 33.8, 24.3, 1.0],\n",
       "       ['WR', '21-136', 'ARI', 'GNB', 14.0, 5.2, 9.2, 9.2, 7.2, 0.0],\n",
       "       ['TE', '23-216', 'ARI', 'GNB', 12.0, 1.8, 3.8, 3.8, 2.8, 0.0],\n",
       "       ['TE', '27-019', 'ARI', 'GNB', 28.0, 0.7, 1.7, 1.7, 1.2, 0.0],\n",
       "       ['WR', '31-097', 'ARI', 'GNB', 152.0, 12.0, 18.0, 21.0, 15.0, 1.0],\n",
       "       ['K', '33-296', 'ARI', 'GNB', 106.0, 6.0, 6.0, 0.0, 6.0, 0.0],\n",
       "       ['FB', '24-088', 'ARI', 'GNB', 11.0, 0.0, 0.0, 0.0, 0.0, 0.0],\n",
       "       ['P', '30-016', 'ARI', 'GNB', 30.0, 0.0, 0.0, 0.0, 0.0, 0.0],\n",
       "       ['QB', '30-084', 'GNB', 'ARI', 293.0, 20.44, 20.4, 24.4, 21.4,\n",
       "        21.0],\n",
       "       ['RB', '29-226', 'GNB', 'ARI', 84.0, 40.9, 43.9, 46.9, 42.4, 0.0],\n",
       "       ['RB', '24-117', 'GNB', 'ARI', 11.0, 7.9, 8.9, 8.9, 8.4, 0.0],\n",
       "       ['QB', '24-099', 'GNB', 'ARI', 6.0, 0.0, 0.0, 0.0, 0.0, 18.0],\n",
       "       ['WR', '28-358', 'GNB', 'ARI', 37.0, 21.3, 27.3, 27.3, 24.3, 0.0],\n",
       "       ['WR', '24-025', 'GNB', 'ARI', 20.0, 4.1, 7.1, 7.1, 5.6, 0.0],\n",
       "       ['WR', '27-220', 'GNB', 'ARI', 69.0, 4.6, 5.6, 5.6, 5.1, 0.0],\n",
       "       ['FB', '28-317', 'GNB', 'ARI', 66.0, 0.1, 1.1, 1.1, 0.6, 0.0],\n",
       "       ['WR', '30-085', 'GNB', 'ARI', 37.0, 5.4, 7.4, 7.4, 6.4, 0.0],\n",
       "       ['TE', '30-003', 'GNB', 'ARI', 26.0, 4.4, 8.4, 8.4, 6.4, 0.0],\n",
       "       ['FS', '24-060', 'GNB', 'ARI', 3.0, 0.0, 0.0, 0.0, 0.0, 0.0]],\n",
       "      dtype=object)"
      ]
     },
     "execution_count": 61,
     "metadata": {},
     "output_type": "execute_result"
    }
   ],
   "source": [
    "arr[:, 0:10]"
   ]
  },
  {
   "cell_type": "code",
   "execution_count": null,
   "id": "b7e280ac",
   "metadata": {},
   "outputs": [],
   "source": []
  }
 ],
 "metadata": {
  "kernelspec": {
   "display_name": "Python 3 (ipykernel)",
   "language": "python",
   "name": "python3"
  },
  "language_info": {
   "codemirror_mode": {
    "name": "ipython",
    "version": 3
   },
   "file_extension": ".py",
   "mimetype": "text/x-python",
   "name": "python",
   "nbconvert_exporter": "python",
   "pygments_lexer": "ipython3",
   "version": "3.8.11"
  }
 },
 "nbformat": 4,
 "nbformat_minor": 5
}
